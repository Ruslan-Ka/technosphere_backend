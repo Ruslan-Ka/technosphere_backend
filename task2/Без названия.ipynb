{
 "cells": [
  {
   "cell_type": "code",
   "execution_count": 51,
   "metadata": {},
   "outputs": [],
   "source": [
    "from itertools import zip_longest\n",
    "\n",
    "class Ilist(list):\n",
    "    def __add__(self, other):\n",
    "        tmp = [x + y for x, y in zip_longest(self,other, fillvalue = 0)]\n",
    "        return list(tmp)\n",
    "    \n",
    "    def __sub__(self, other):\n",
    "        tmp = [x - y for x, y in zip_longest(self,other, fillvalue = 0)]\n",
    "        return list(tmp)\n",
    "    \n",
    "    def __iadd__(self, other):\n",
    "        return self + other\n",
    "    \n",
    "    def __isub__(self, other):\n",
    "        return self - other\n",
    "    \n",
    "    def __lt__(self, other):\n",
    "        return sum(self) < sum(other)\n",
    "    \n",
    "    def __gt__(self, other):\n",
    "        return sum(self) > sum(other)\n",
    "    \n",
    "    def __le__(self, other):\n",
    "        return sum(self) <= sum(other)\n",
    "    \n",
    "    def __ge__(self, other):\n",
    "        return sum(self) >= sum(other)\n",
    "    \n",
    "    def __eq__(self, other):\n",
    "        return sum(self) == sum(other)\n",
    "    \n",
    "    def __ne__(self, other):\n",
    "        return sem(self) != self(other)\n",
    "    "
   ]
  },
  {
   "cell_type": "code",
   "execution_count": 53,
   "metadata": {},
   "outputs": [
    {
     "data": {
      "text/plain": [
       "True"
      ]
     },
     "execution_count": 53,
     "metadata": {},
     "output_type": "execute_result"
    }
   ],
   "source": [
    "a = [1,2,3,4,5,6,1000]\n",
    "b = [7,8,9,10]\n",
    "a = Ilist(a)\n",
    "b = Ilist(b)\n",
    "a = b"
   ]
  },
  {
   "cell_type": "code",
   "execution_count": null,
   "metadata": {},
   "outputs": [],
   "source": []
  }
 ],
 "metadata": {
  "kernelspec": {
   "display_name": "Python 3",
   "language": "python",
   "name": "python3"
  },
  "language_info": {
   "codemirror_mode": {
    "name": "ipython",
    "version": 3
   },
   "file_extension": ".py",
   "mimetype": "text/x-python",
   "name": "python",
   "nbconvert_exporter": "python",
   "pygments_lexer": "ipython3",
   "version": "3.7.9"
  }
 },
 "nbformat": 4,
 "nbformat_minor": 4
}
